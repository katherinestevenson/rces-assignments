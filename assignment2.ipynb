{
 "cells": [
  {
   "cell_type": "markdown",
   "metadata": {},
   "source": [
    "# Assignment: Basic Python\n",
    "\n",
    "\n",
    "```{admonition} Learning Goals\n",
    ":class: tip\n",
    "\n",
    "This assignment will verify that you have the following skills:\n",
    "- Create lists and dictionaries\n",
    "- Iterate through lists, tuples, and dictionaries\n",
    "- Index sequences (e.g. lists and tuples)\n",
    "- Define functions\n",
    "- Use optional keyword arguments in functions\n",
    "```"
   ]
  },
  {
   "cell_type": "markdown",
   "metadata": {},
   "source": [
    "## Part I: Lists and Loops\n",
    "\n",
    "In this problem, we will explore the basic data structures and flow controls of Python by _manually creating data structures_.\n",
    "\n",
    "\n",
    "```{warning}\n",
    "Pluto is [not a planet any more](https://www.loc.gov/everyday-mysteries/item/why-is-pluto-no-longer-a-planet/).\n",
    "```"
   ]
  },
  {
   "cell_type": "markdown",
   "metadata": {},
   "source": [
    "### 1) Create a list with the names of every planet in the solar system (in order)"
   ]
  },
  {
   "cell_type": "code",
   "execution_count": 1,
   "metadata": {},
   "outputs": [],
   "source": [
    "planets = ['Mercury','Venus','Earth','Mars','Jupiter','Saturn','Uranus','Neptune'] "
   ]
  },
  {
   "cell_type": "markdown",
   "metadata": {
    "tags": []
   },
   "source": [
    "### 2) Have Python tell you how many planets there are by examining your list"
   ]
  },
  {
   "cell_type": "code",
   "execution_count": 8,
   "metadata": {},
   "outputs": [
    {
     "name": "stdout",
     "output_type": "stream",
     "text": [
      "There are 8 planets.\n"
     ]
    }
   ],
   "source": [
    "print(\"There are \" + str(len(planets)) + \" planets.\")"
   ]
  },
  {
   "cell_type": "markdown",
   "metadata": {},
   "source": [
    "### 3) Use slicing to display the first four planets (the rocky planets)"
   ]
  },
  {
   "cell_type": "code",
   "execution_count": 4,
   "metadata": {},
   "outputs": [
    {
     "name": "stdout",
     "output_type": "stream",
     "text": [
      "['Mercury', 'Venus', 'Earth', 'Mars']\n"
     ]
    }
   ],
   "source": [
    "print(planets[0:4])"
   ]
  },
  {
   "cell_type": "markdown",
   "metadata": {},
   "source": [
    "### 4) Iterate through your planets and print the planet name only if it has an `s` at the end"
   ]
  },
  {
   "cell_type": "code",
   "execution_count": 23,
   "metadata": {},
   "outputs": [
    {
     "name": "stdout",
     "output_type": "stream",
     "text": [
      "Venus\n",
      "Mars\n",
      "Uranus\n"
     ]
    }
   ],
   "source": [
    "for i in range(len(planets)):\n",
    "    if ((planets[i])[-1]) == \"s\":\n",
    "        print (planets[i])"
   ]
  },
  {
   "cell_type": "markdown",
   "metadata": {},
   "source": [
    "## Part II: Dictionaries\n",
    "\n",
    "### 1) Now create a dictionary that maps each planet name to its mass\n",
    "\n",
    "You can use values from this [NASA fact sheet](https://nssdc.gsfc.nasa.gov/planetary/factsheet/).\n",
    "You can use whatever units you want, but be consistent."
   ]
  },
  {
   "cell_type": "code",
   "execution_count": 1,
   "metadata": {},
   "outputs": [],
   "source": [
    "planet_mass = {'Mercury':0.330,'Venus': 4.87,'Earth':5.97,'Mars':0.642,'Jupiter':1898,'Saturn':568,'Uranus':86.8,'Neptune':102} #units: 10^24 kg"
   ]
  },
  {
   "cell_type": "markdown",
   "metadata": {},
   "source": [
    "### 2) Use your dictionary to look up Earth's mass"
   ]
  },
  {
   "cell_type": "code",
   "execution_count": 8,
   "metadata": {},
   "outputs": [
    {
     "name": "stdout",
     "output_type": "stream",
     "text": [
      "5.97 x 10^24 kg.\n"
     ]
    }
   ],
   "source": [
    "print(str(planet_mass['Earth']) + \" x 10^24 kg.\")"
   ]
  },
  {
   "cell_type": "markdown",
   "metadata": {
    "tags": []
   },
   "source": [
    "### 3) Loop through the data and create a list of planets whose mass is greater than 100 x 10^24 kg \n",
    "\n",
    "Display your result"
   ]
  },
  {
   "cell_type": "code",
   "execution_count": 18,
   "metadata": {},
   "outputs": [
    {
     "name": "stdout",
     "output_type": "stream",
     "text": [
      "Jupiter\n",
      "Saturn\n",
      "Neptune\n"
     ]
    }
   ],
   "source": [
    "for key, val in planet_mass.items():\n",
    "    if val > 100:\n",
    "        print(key)"
   ]
  },
  {
   "cell_type": "markdown",
   "metadata": {},
   "source": [
    "### 4) Now add pluto to your dictionary"
   ]
  },
  {
   "cell_type": "code",
   "execution_count": 16,
   "metadata": {},
   "outputs": [],
   "source": [
    "planet_mass['Pluto'] = 0.0130\n",
    "\n",
    "# check that it worked... \n",
    "\n",
    "# for key, val in planet_mass.items():\n",
    "#     print (key, val)"
   ]
  },
  {
   "cell_type": "markdown",
   "metadata": {},
   "source": [
    "## Part III: Functions\n",
    "\n",
    "### 1. Write a function to convert temperature from kelvin to celsius and celsius to kelvin"
   ]
  },
  {
   "cell_type": "code",
   "execution_count": 17,
   "metadata": {},
   "outputs": [],
   "source": [
    "def Temp_convert_C_K(temp, unit):\n",
    "    \"\"\" Converts temp from K to C. Include the temp's current unit. \"\"\"\n",
    "    if unit == \"K\":\n",
    "        new_temp = round((temp - 273.15),2)\n",
    "        new_unit = \"Celsius\"\n",
    "    if unit == \"C\":\n",
    "        new_temp = round((temp + 273.15),2)\n",
    "        new_unit = \"Kelvin\"\n",
    "    print (str(new_temp) + \" \" + new_unit)\n",
    "\n",
    "# another method ... \n",
    "\n",
    "# def Temp_convert(temp, kelvin=False):\n",
    "#     \"\"\" Converts temp from K to C. If starting with K, include kelvin=True. If starting with C, include kelvin=False \"\"\"\n",
    "#     if kelvin:\n",
    "#         new_temp = temp - 273.15\n",
    "#         new_unit = \"Celsius\"\n",
    "#     else:\n",
    "#         new_temp = temp + 273.15\n",
    "#         new_unit = \"Kelvin\"\n",
    "#     print (str(new_temp) + \" \" + new_unit)"
   ]
  },
  {
   "cell_type": "markdown",
   "metadata": {
    "tags": []
   },
   "source": [
    "### 2. Write a function to convert temperature to fahrenheit\n",
    "\n",
    "Include an optional keyword argument to specify whether the input is in  celcius or kelvin.\n",
    "Call your previously defined functions if necessary."
   ]
  },
  {
   "cell_type": "code",
   "execution_count": 18,
   "metadata": {},
   "outputs": [],
   "source": [
    "def Temp_convert(temp, unit):\n",
    "    \"\"\" Converts temp to F. Include the temp's current unit. \"\"\"\n",
    "    if unit == \"K\":\n",
    "        new_temp = round((1.8* (temp - 273.15) + 32),2)\n",
    "    if unit == \"C\":\n",
    "        new_temp = (temp * (9/5) + 32)\n",
    "    print (str(new_temp) + \" Fahrenheit\")\n",
    "\n",
    "# If there must be an optional argument ... \n",
    "    \n",
    "# def Temp_convert(temp, Kelvin=False):\n",
    "#     \"\"\" Converts temp to F. If starting with K, include Kelvin=True. If starting with C, include Kelvin=False. \"\"\"\n",
    "#     if Kelvin:\n",
    "#         new_temp = (1.8* (temp - 273.15) + 32)\n",
    "#     else\n",
    "#         new_temp = (temp * (9/5) + 32)\n",
    "#     print (str(new_temp) + \" Fahrenheit\")"
   ]
  },
  {
   "cell_type": "markdown",
   "metadata": {},
   "source": [
    "### 3) Check that the outputs are sensible\n",
    "\n",
    "by trying a few examples"
   ]
  },
  {
   "cell_type": "code",
   "execution_count": 19,
   "metadata": {},
   "outputs": [
    {
     "name": "stdout",
     "output_type": "stream",
     "text": [
      "26.85 Celsius\n"
     ]
    }
   ],
   "source": [
    "Temp_convert_C_K(300,\"K\")"
   ]
  },
  {
   "cell_type": "code",
   "execution_count": 20,
   "metadata": {},
   "outputs": [
    {
     "name": "stdout",
     "output_type": "stream",
     "text": [
      "303.15 Kelvin\n"
     ]
    }
   ],
   "source": [
    "Temp_convert_C_K(30,\"C\")"
   ]
  },
  {
   "cell_type": "code",
   "execution_count": 21,
   "metadata": {},
   "outputs": [
    {
     "name": "stdout",
     "output_type": "stream",
     "text": [
      "76.73 Fahrenheit\n"
     ]
    }
   ],
   "source": [
    "Temp_convert(298, \"K\")"
   ]
  },
  {
   "cell_type": "code",
   "execution_count": 22,
   "metadata": {},
   "outputs": [
    {
     "name": "stdout",
     "output_type": "stream",
     "text": [
      "86.0 Fahrenheit\n"
     ]
    }
   ],
   "source": [
    "Temp_convert(30, \"C\")"
   ]
  },
  {
   "cell_type": "markdown",
   "metadata": {},
   "source": [
    "### 4) Now write a function that converts _from_ farenheit\n",
    "\n",
    "and uses a keyword argument to specify whether you want the output in celcius or kelvin"
   ]
  },
  {
   "cell_type": "code",
   "execution_count": 13,
   "metadata": {},
   "outputs": [],
   "source": [
    "def Convert_from_F(temp, newunit):\n",
    "    if newunit == \"K\":\n",
    "        newtemp = round(((temp+459.67) * (5/9)),2)\n",
    "        unit = \"Kelvin\"\n",
    "    if newunit == \"C\":\n",
    "        newtemp = round(((temp-32) * (5/9)),2)\n",
    "        unit = \"Farenheit\"\n",
    "    print (str(newtemp) + \" \" + unit)"
   ]
  },
  {
   "cell_type": "markdown",
   "metadata": {},
   "source": [
    "### 5) Write a function that takes two arguments (feet and inches) and returns height in meters\n",
    "\n",
    "Verify it gives sensible answers"
   ]
  },
  {
   "cell_type": "code",
   "execution_count": 51,
   "metadata": {},
   "outputs": [],
   "source": [
    "def Convert_to_m(feet, inches):\n",
    "    if feet == 0:\n",
    "        meters = inches * 0.0254\n",
    "    else:\n",
    "        meters = round(((inches + 12*(feet)) * 0.0254),2)\n",
    "    print (str(meters) + \" meters\")"
   ]
  },
  {
   "cell_type": "markdown",
   "metadata": {},
   "source": [
    "### 6. Write a function takes one argument (height in meters) and returns two arguments (feet and inches)\n",
    "\n",
    "(Consult the [tutorial on numbers](https://docs.python.org/3/tutorial/introduction.html#numbers) if you are stuck on how to implement this.)"
   ]
  },
  {
   "cell_type": "code",
   "execution_count": 46,
   "metadata": {},
   "outputs": [],
   "source": [
    "import math \n",
    "\n",
    "def Convert_to_ft_in(meters):\n",
    "    feet = math.floor((meters * 39.3701) / 12) \n",
    "    inches = round(((meters*39.3701) - (feet*12)),2)\n",
    "    print (str(feet) + \" feet \" + str(inches) + \" inches\")"
   ]
  },
  {
   "cell_type": "markdown",
   "metadata": {
    "tags": []
   },
   "source": [
    "### 7) Verify that the \"round trip\" conversion from and back to meters is consistent \n",
    "\n",
    "Check for 3 different values of height in meters"
   ]
  },
  {
   "cell_type": "code",
   "execution_count": 55,
   "metadata": {},
   "outputs": [
    {
     "name": "stdout",
     "output_type": "stream",
     "text": [
      "10 feet 5.98 inches\n",
      "3.2 meters\n"
     ]
    }
   ],
   "source": [
    "Convert_to_ft_in(3.2)\n",
    "Convert_to_m(10,5.98)"
   ]
  },
  {
   "cell_type": "code",
   "execution_count": 54,
   "metadata": {},
   "outputs": [
    {
     "name": "stdout",
     "output_type": "stream",
     "text": [
      "219 feet 9.8 inches\n",
      "67.0 meters\n"
     ]
    }
   ],
   "source": [
    "Convert_to_ft_in(67)\n",
    "Convert_to_m(219,9.8)"
   ]
  },
  {
   "cell_type": "code",
   "execution_count": 58,
   "metadata": {},
   "outputs": [
    {
     "name": "stdout",
     "output_type": "stream",
     "text": [
      "1 feet 7.69 inches\n",
      "0.5 meters\n"
     ]
    }
   ],
   "source": [
    "Convert_to_ft_in(0.5)\n",
    "Convert_to_m(1,7.69)"
   ]
  }
 ],
 "metadata": {
  "kernelspec": {
   "display_name": "Python 3 (ipykernel)",
   "language": "python",
   "name": "python3"
  },
  "language_info": {
   "codemirror_mode": {
    "name": "ipython",
    "version": 3
   },
   "file_extension": ".py",
   "mimetype": "text/x-python",
   "name": "python",
   "nbconvert_exporter": "python",
   "pygments_lexer": "ipython3",
   "version": "3.12.4"
  }
 },
 "nbformat": 4,
 "nbformat_minor": 4
}
