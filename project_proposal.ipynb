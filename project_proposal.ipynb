{
 "cells": [
  {
   "cell_type": "markdown",
   "id": "1d952135-a705-4cae-9a3f-3b24de17b5fd",
   "metadata": {},
   "source": [
    "# Final Project Proposal\n",
    "<br>\n",
    "Project must use a programming language (e.g. Python) to carry out an extensive data analysis, modeling, or visualization task.\n",
    "\n",
    "Research objective - develop robust/thorough chemical mechanism for alpha-pinene (biogenic volatile organic compound) by combining existing mechanisms\n",
    "\n",
    "### What are your scientific questions?\n",
    "- Where does overlap exist between two chemical reaction mechanisms?\n",
    "- How does combining chemical reaction mechanisms alter product yields?\n",
    "\n",
    "### What are your datasets?\n",
    "- Chemical reaction mechanisms from MCMv3.3.1 and PRAM (Jenkin et al. (MCMv3.3.1, 1997), Saunders el al. (MCMv3.3.1, 2003), Roldin et al. (PRAM, 2019))\n",
    "- Chemical kinetics obtained from 0-D model (F0AM)\n",
    "  \n",
    "### What is the analysis that you plan to conduct?\n",
    "- Time series (modeled)\n",
    "- Calculating reaction kinetics and product yields\n",
    "\n",
    "### What are the outcomes that you plan to achieve?\n",
    "- Develop an automated method for combining reaction mechanisms \n",
    "- Reveal significant differences in reaction mechanisms and product yields"
   ]
  },
  {
   "cell_type": "markdown",
   "id": "02483e44-1555-4eb8-b5eb-9bb5009ad264",
   "metadata": {},
   "source": [
    "# Final Project Proposal (Back-up...)\n",
    "\n",
    "Project must use a programming language (e.g. Python) to carry out an extensive data analysis, modeling, or visualization task.\n",
    "\n",
    "### What are your scientific questions?\n",
    "\n",
    "- What are the temporal and spatial variation patterns of isoprene, an abundant biogenic volatile organic compound? (Have concentrations been increasing/decreasing over time? Are there seasonal variations? Where are these emissions most abundant/What are the sources?)\n",
    "- How do these variations correlate to the presence of certain tree species?\n",
    "\n",
    "### What are your datasets?\n",
    "\n",
    "- IR satellite measurements (CrIS L1B)\n",
    "- Modeled calculations (Model of Emission of Gases and Aerosols from Nature (MEGANv3.2))\n",
    "  \n",
    "### What is the analysis that you plan to conduct?\n",
    "\n",
    "**Temporal** \n",
    "- Time series (illustrates concentration throughout time period, annual/seasonal variations)\n",
    "\n",
    "**Spatial**\n",
    "- Global map with concentrations during different years/seasons\n",
    "- Global map with ecosystem/tree species\n",
    "- Global map with temperature data\n",
    "\n",
    "### What are the outcomes that you plan to achieve?\n",
    "\n",
    "- Reveal any concentration changes over the years and seasonal patterns\n",
    "- Reveal any correlation with concentration and tree species "
   ]
  }
 ],
 "metadata": {
  "kernelspec": {
   "display_name": "Python 3 (ipykernel)",
   "language": "python",
   "name": "python3"
  },
  "language_info": {
   "codemirror_mode": {
    "name": "ipython",
    "version": 3
   },
   "file_extension": ".py",
   "mimetype": "text/x-python",
   "name": "python",
   "nbconvert_exporter": "python",
   "pygments_lexer": "ipython3",
   "version": "3.12.7"
  }
 },
 "nbformat": 4,
 "nbformat_minor": 5
}
